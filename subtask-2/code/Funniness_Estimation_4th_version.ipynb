{
  "nbformat": 4,
  "nbformat_minor": 0,
  "metadata": {
    "colab": {
      "name": "Funniness_Estimation_4th_version.ipynb",
      "provenance": [],
      "toc_visible": true
    },
    "kernelspec": {
      "name": "python3",
      "display_name": "Python 3"
    },
    "widgets": {
      "application/vnd.jupyter.widget-state+json": {
        "0841ed0619e24bd6ae368c341553a59e": {
          "model_module": "@jupyter-widgets/controls",
          "model_name": "HBoxModel",
          "state": {
            "_view_name": "HBoxView",
            "_dom_classes": [],
            "_model_name": "HBoxModel",
            "_view_module": "@jupyter-widgets/controls",
            "_model_module_version": "1.5.0",
            "_view_count": null,
            "_view_module_version": "1.5.0",
            "box_style": "",
            "layout": "IPY_MODEL_185c554df7384fd28b8f1c9f859476c3",
            "_model_module": "@jupyter-widgets/controls",
            "children": [
              "IPY_MODEL_a11b150704e44eeeb2cabf89f6be7c89",
              "IPY_MODEL_e848256fa5894283935aa12034fe7e01"
            ]
          }
        },
        "185c554df7384fd28b8f1c9f859476c3": {
          "model_module": "@jupyter-widgets/base",
          "model_name": "LayoutModel",
          "state": {
            "_view_name": "LayoutView",
            "grid_template_rows": null,
            "right": null,
            "justify_content": null,
            "_view_module": "@jupyter-widgets/base",
            "overflow": null,
            "_model_module_version": "1.2.0",
            "_view_count": null,
            "flex_flow": null,
            "width": null,
            "min_width": null,
            "border": null,
            "align_items": null,
            "bottom": null,
            "_model_module": "@jupyter-widgets/base",
            "top": null,
            "grid_column": null,
            "overflow_y": null,
            "overflow_x": null,
            "grid_auto_flow": null,
            "grid_area": null,
            "grid_template_columns": null,
            "flex": null,
            "_model_name": "LayoutModel",
            "justify_items": null,
            "grid_row": null,
            "max_height": null,
            "align_content": null,
            "visibility": null,
            "align_self": null,
            "height": null,
            "min_height": null,
            "padding": null,
            "grid_auto_rows": null,
            "grid_gap": null,
            "max_width": null,
            "order": null,
            "_view_module_version": "1.2.0",
            "grid_template_areas": null,
            "object_position": null,
            "object_fit": null,
            "grid_auto_columns": null,
            "margin": null,
            "display": null,
            "left": null
          }
        },
        "a11b150704e44eeeb2cabf89f6be7c89": {
          "model_module": "@jupyter-widgets/controls",
          "model_name": "FloatProgressModel",
          "state": {
            "_view_name": "ProgressView",
            "style": "IPY_MODEL_33ed4559e4774873ba4d0d84c0891e58",
            "_dom_classes": [],
            "description": "Downloading: 100%",
            "_model_name": "FloatProgressModel",
            "bar_style": "success",
            "max": 760289,
            "_view_module": "@jupyter-widgets/controls",
            "_model_module_version": "1.5.0",
            "value": 760289,
            "_view_count": null,
            "_view_module_version": "1.5.0",
            "orientation": "horizontal",
            "min": 0,
            "description_tooltip": null,
            "_model_module": "@jupyter-widgets/controls",
            "layout": "IPY_MODEL_e7e500d60ae041f18b084a7f4f4412ae"
          }
        },
        "e848256fa5894283935aa12034fe7e01": {
          "model_module": "@jupyter-widgets/controls",
          "model_name": "HTMLModel",
          "state": {
            "_view_name": "HTMLView",
            "style": "IPY_MODEL_076ed5a02f46479591dca5aaf38a7059",
            "_dom_classes": [],
            "description": "",
            "_model_name": "HTMLModel",
            "placeholder": "​",
            "_view_module": "@jupyter-widgets/controls",
            "_model_module_version": "1.5.0",
            "value": " 760k/760k [01:23&lt;00:00, 9.14kB/s]",
            "_view_count": null,
            "_view_module_version": "1.5.0",
            "description_tooltip": null,
            "_model_module": "@jupyter-widgets/controls",
            "layout": "IPY_MODEL_5d256b06682e41678f717df3253760ee"
          }
        },
        "33ed4559e4774873ba4d0d84c0891e58": {
          "model_module": "@jupyter-widgets/controls",
          "model_name": "ProgressStyleModel",
          "state": {
            "_view_name": "StyleView",
            "_model_name": "ProgressStyleModel",
            "description_width": "initial",
            "_view_module": "@jupyter-widgets/base",
            "_model_module_version": "1.5.0",
            "_view_count": null,
            "_view_module_version": "1.2.0",
            "bar_color": null,
            "_model_module": "@jupyter-widgets/controls"
          }
        },
        "e7e500d60ae041f18b084a7f4f4412ae": {
          "model_module": "@jupyter-widgets/base",
          "model_name": "LayoutModel",
          "state": {
            "_view_name": "LayoutView",
            "grid_template_rows": null,
            "right": null,
            "justify_content": null,
            "_view_module": "@jupyter-widgets/base",
            "overflow": null,
            "_model_module_version": "1.2.0",
            "_view_count": null,
            "flex_flow": null,
            "width": null,
            "min_width": null,
            "border": null,
            "align_items": null,
            "bottom": null,
            "_model_module": "@jupyter-widgets/base",
            "top": null,
            "grid_column": null,
            "overflow_y": null,
            "overflow_x": null,
            "grid_auto_flow": null,
            "grid_area": null,
            "grid_template_columns": null,
            "flex": null,
            "_model_name": "LayoutModel",
            "justify_items": null,
            "grid_row": null,
            "max_height": null,
            "align_content": null,
            "visibility": null,
            "align_self": null,
            "height": null,
            "min_height": null,
            "padding": null,
            "grid_auto_rows": null,
            "grid_gap": null,
            "max_width": null,
            "order": null,
            "_view_module_version": "1.2.0",
            "grid_template_areas": null,
            "object_position": null,
            "object_fit": null,
            "grid_auto_columns": null,
            "margin": null,
            "display": null,
            "left": null
          }
        },
        "076ed5a02f46479591dca5aaf38a7059": {
          "model_module": "@jupyter-widgets/controls",
          "model_name": "DescriptionStyleModel",
          "state": {
            "_view_name": "StyleView",
            "_model_name": "DescriptionStyleModel",
            "description_width": "",
            "_view_module": "@jupyter-widgets/base",
            "_model_module_version": "1.5.0",
            "_view_count": null,
            "_view_module_version": "1.2.0",
            "_model_module": "@jupyter-widgets/controls"
          }
        },
        "5d256b06682e41678f717df3253760ee": {
          "model_module": "@jupyter-widgets/base",
          "model_name": "LayoutModel",
          "state": {
            "_view_name": "LayoutView",
            "grid_template_rows": null,
            "right": null,
            "justify_content": null,
            "_view_module": "@jupyter-widgets/base",
            "overflow": null,
            "_model_module_version": "1.2.0",
            "_view_count": null,
            "flex_flow": null,
            "width": null,
            "min_width": null,
            "border": null,
            "align_items": null,
            "bottom": null,
            "_model_module": "@jupyter-widgets/base",
            "top": null,
            "grid_column": null,
            "overflow_y": null,
            "overflow_x": null,
            "grid_auto_flow": null,
            "grid_area": null,
            "grid_template_columns": null,
            "flex": null,
            "_model_name": "LayoutModel",
            "justify_items": null,
            "grid_row": null,
            "max_height": null,
            "align_content": null,
            "visibility": null,
            "align_self": null,
            "height": null,
            "min_height": null,
            "padding": null,
            "grid_auto_rows": null,
            "grid_gap": null,
            "max_width": null,
            "order": null,
            "_view_module_version": "1.2.0",
            "grid_template_areas": null,
            "object_position": null,
            "object_fit": null,
            "grid_auto_columns": null,
            "margin": null,
            "display": null,
            "left": null
          }
        }
      }
    }
  },
  "cells": [
    {
      "cell_type": "markdown",
      "metadata": {
        "id": "IoAuoSxKZogJ",
        "colab_type": "text"
      },
      "source": [
        "# Funniness Estimation System  v4.0"
      ]
    },
    {
      "cell_type": "code",
      "metadata": {
        "id": "oO_Pzm1cLKf4",
        "colab_type": "code",
        "colab": {}
      },
      "source": [
        "\"\"\"\n",
        "@author: Ziyang Lin\n",
        "         zlin19@sheffield.ac.uk\n",
        "         University of Sheffield, UK\n",
        "\"\"\"\n",
        "\n",
        "'''\n",
        "A system for\n",
        "\"Assessing the Funniness of Edited News Headlines (SemEval-2020)\" task 2.\n",
        "'''\n",
        "\n",
        "import random\n",
        "\n",
        "import pandas as pd\n",
        "import numpy as np\n",
        "\n",
        "import os\n",
        "import re\n",
        "import time\n",
        "import math\n",
        "\n",
        "import torch\n",
        "import torch.nn as nn\n",
        "import torch.optim as optim\n",
        "import torch.nn.functional as F\n",
        "\n",
        "from torchtext import data\n",
        "from torchtext import datasets\n",
        "import torch.utils.data as tud\n",
        "\n",
        "from google.colab import drive \n",
        "drive.mount('/content/gdrive')\n",
        "\n",
        "import nltk\n",
        "nltk.download('punkt')\n",
        "from nltk import word_tokenize\n",
        "\n",
        "\n",
        "# fix the seeds to get consistent results before every training\n",
        "# loop in what follows\n",
        "def fix_seed(seed=1234):\n",
        "    torch.manual_seed(seed)\n",
        "    torch.cuda.manual_seed(seed)\n",
        "    np.random.seed(seed)\n",
        "    random.seed(seed)\n",
        "\n",
        "\n",
        "# Helper function to print the run time\n",
        "def run_time(start_time, end_time):\n",
        "    elapsed_time = end_time - start_time\n",
        "    elapsed_mins = int(elapsed_time / 60)\n",
        "    elapsed_secs = int(elapsed_time - (elapsed_mins * 60))\n",
        "    return elapsed_mins, elapsed_secs"
      ],
      "execution_count": null,
      "outputs": []
    },
    {
      "cell_type": "code",
      "metadata": {
        "id": "LchxscdyVAfV",
        "colab_type": "code",
        "colab": {}
      },
      "source": [
        "log_num_r = 0\n",
        "real_task_stats = []\n",
        "\n",
        "def add_real_task_stats(real_task_stats, log_num_r, MODEL_NAME, BATCH_SIZE, N_EPOCHS, LRATE, FRATE, EPS, WU, WDECAY, train_loss, train_accuracy, val_loss, val_accuracy, test_accuracy):\n",
        "    log_num_r += 1\n",
        "\n",
        "    real_task_stats.append(\n",
        "        {\n",
        "            'log': log_num_r,\n",
        "            'Model Name': MODEL_NAME,\n",
        "            'Batch Size': BATCH_SIZE,\n",
        "            'N_Epochs': N_EPOCHS,\n",
        "            'lr': LRATE,\n",
        "            'fr': FRATE,\n",
        "            'eps': EPS,\n",
        "            'wu': WU,\n",
        "            'wd': WDECAY,\n",
        "            'Training Loss': train_loss,\n",
        "            'Training Accur.': train_accuracy,\n",
        "            'Valid. Loss': val_loss,\n",
        "            'Valid. Accur.': val_accuracy,\n",
        "            'Testing Accur.': test_accuracy\n",
        "        }\n",
        "    )\n",
        "    \n",
        "    return real_task_stats, log_num_r"
      ],
      "execution_count": null,
      "outputs": []
    },
    {
      "cell_type": "code",
      "metadata": {
        "id": "Yn3ifntYKxSA",
        "colab_type": "code",
        "colab": {}
      },
      "source": [
        "log_num_f = 0\n",
        "fake_task_stats = []\n",
        "\n",
        "def add_fake_task_stats(fake_task_stats, log_num_f, MODEL_NAME, BATCH_SIZE, N_EPOCHS, LRATE, FRATE, EPS, WU, WDECAY, train_loss, val_loss):\n",
        "    log_num_f += 1\n",
        "\n",
        "    fake_task_stats.append(\n",
        "        {\n",
        "            'log': log_num_f,\n",
        "            'Model Name': MODEL_NAME,\n",
        "            'Batch Size': BATCH_SIZE,\n",
        "            'N_Epochs': N_EPOCHS,\n",
        "            'lr': LRATE,\n",
        "            'fr': FRATE,\n",
        "            'eps': EPS,\n",
        "            'wu': WU,\n",
        "            'wd': WDECAY,\n",
        "            'Training Loss': train_loss,\n",
        "            'Valid. Loss': val_loss\n",
        "        }\n",
        "    )\n",
        "    \n",
        "    return fake_task_stats, log_num_f"
      ],
      "execution_count": null,
      "outputs": []
    },
    {
      "cell_type": "code",
      "metadata": {
        "id": "circaXFnHUnq",
        "colab_type": "code",
        "colab": {
          "base_uri": "https://localhost:8080/",
          "height": 615
        },
        "outputId": "e590c9d7-9e59-4951-8454-60cf23c230e8"
      },
      "source": [
        "!pip install transformers"
      ],
      "execution_count": null,
      "outputs": [
        {
          "output_type": "stream",
          "text": [
            "Collecting transformers\n",
            "\u001b[?25l  Downloading https://files.pythonhosted.org/packages/27/3c/91ed8f5c4e7ef3227b4119200fc0ed4b4fd965b1f0172021c25701087825/transformers-3.0.2-py3-none-any.whl (769kB)\n",
            "\u001b[K     |████████████████████████████████| 778kB 4.8MB/s \n",
            "\u001b[?25hCollecting sentencepiece!=0.1.92\n",
            "\u001b[?25l  Downloading https://files.pythonhosted.org/packages/d4/a4/d0a884c4300004a78cca907a6ff9a5e9fe4f090f5d95ab341c53d28cbc58/sentencepiece-0.1.91-cp36-cp36m-manylinux1_x86_64.whl (1.1MB)\n",
            "\u001b[K     |████████████████████████████████| 1.1MB 42.8MB/s \n",
            "\u001b[?25hRequirement already satisfied: regex!=2019.12.17 in /usr/local/lib/python3.6/dist-packages (from transformers) (2019.12.20)\n",
            "Collecting tokenizers==0.8.1.rc1\n",
            "\u001b[?25l  Downloading https://files.pythonhosted.org/packages/40/d0/30d5f8d221a0ed981a186c8eb986ce1c94e3a6e87f994eae9f4aa5250217/tokenizers-0.8.1rc1-cp36-cp36m-manylinux1_x86_64.whl (3.0MB)\n",
            "\u001b[K     |████████████████████████████████| 3.0MB 45.7MB/s \n",
            "\u001b[?25hRequirement already satisfied: packaging in /usr/local/lib/python3.6/dist-packages (from transformers) (20.4)\n",
            "Requirement already satisfied: dataclasses; python_version < \"3.7\" in /usr/local/lib/python3.6/dist-packages (from transformers) (0.7)\n",
            "Requirement already satisfied: filelock in /usr/local/lib/python3.6/dist-packages (from transformers) (3.0.12)\n",
            "Collecting sacremoses\n",
            "\u001b[?25l  Downloading https://files.pythonhosted.org/packages/7d/34/09d19aff26edcc8eb2a01bed8e98f13a1537005d31e95233fd48216eed10/sacremoses-0.0.43.tar.gz (883kB)\n",
            "\u001b[K     |████████████████████████████████| 890kB 33.1MB/s \n",
            "\u001b[?25hRequirement already satisfied: tqdm>=4.27 in /usr/local/lib/python3.6/dist-packages (from transformers) (4.41.1)\n",
            "Requirement already satisfied: requests in /usr/local/lib/python3.6/dist-packages (from transformers) (2.23.0)\n",
            "Requirement already satisfied: numpy in /usr/local/lib/python3.6/dist-packages (from transformers) (1.18.5)\n",
            "Requirement already satisfied: pyparsing>=2.0.2 in /usr/local/lib/python3.6/dist-packages (from packaging->transformers) (2.4.7)\n",
            "Requirement already satisfied: six in /usr/local/lib/python3.6/dist-packages (from packaging->transformers) (1.12.0)\n",
            "Requirement already satisfied: click in /usr/local/lib/python3.6/dist-packages (from sacremoses->transformers) (7.1.2)\n",
            "Requirement already satisfied: joblib in /usr/local/lib/python3.6/dist-packages (from sacremoses->transformers) (0.16.0)\n",
            "Requirement already satisfied: certifi>=2017.4.17 in /usr/local/lib/python3.6/dist-packages (from requests->transformers) (2020.6.20)\n",
            "Requirement already satisfied: chardet<4,>=3.0.2 in /usr/local/lib/python3.6/dist-packages (from requests->transformers) (3.0.4)\n",
            "Requirement already satisfied: urllib3!=1.25.0,!=1.25.1,<1.26,>=1.21.1 in /usr/local/lib/python3.6/dist-packages (from requests->transformers) (1.24.3)\n",
            "Requirement already satisfied: idna<3,>=2.5 in /usr/local/lib/python3.6/dist-packages (from requests->transformers) (2.10)\n",
            "Building wheels for collected packages: sacremoses\n",
            "  Building wheel for sacremoses (setup.py) ... \u001b[?25l\u001b[?25hdone\n",
            "  Created wheel for sacremoses: filename=sacremoses-0.0.43-cp36-none-any.whl size=893260 sha256=8793f0e139ddd519d3ee83c3e12e9fa34b278413e1a694d2807b8ca6fb99580a\n",
            "  Stored in directory: /root/.cache/pip/wheels/29/3c/fd/7ce5c3f0666dab31a50123635e6fb5e19ceb42ce38d4e58f45\n",
            "Successfully built sacremoses\n",
            "Installing collected packages: sentencepiece, tokenizers, sacremoses, transformers\n",
            "Successfully installed sacremoses-0.0.43 sentencepiece-0.1.91 tokenizers-0.8.1rc1 transformers-3.0.2\n"
          ],
          "name": "stdout"
        }
      ]
    },
    {
      "cell_type": "code",
      "metadata": {
        "id": "w1adxCqDFnGE",
        "colab_type": "code",
        "colab": {
          "base_uri": "https://localhost:8080/",
          "height": 34
        },
        "outputId": "7f070102-d0c9-49ec-ccb4-8bba845e7b10"
      },
      "source": [
        "# do computation on a GPU if possible \n",
        "if torch.cuda.is_available():\n",
        "  torch.backends.cudnn.deterministic = True\n",
        "  DEVICE='cuda:0'\n",
        "else:\n",
        "  DEVICE='cpu'\n",
        "\n",
        "print('Device is', DEVICE)"
      ],
      "execution_count": null,
      "outputs": [
        {
          "output_type": "stream",
          "text": [
            "Device is cpu\n"
          ],
          "name": "stdout"
        }
      ]
    },
    {
      "cell_type": "markdown",
      "metadata": {
        "id": "FcLgdOc_yGsF",
        "colab_type": "text"
      },
      "source": [
        "# Preprocessing Datasets"
      ]
    },
    {
      "cell_type": "markdown",
      "metadata": {
        "id": "IMmXYdN9GXNR",
        "colab_type": "text"
      },
      "source": [
        "## Read data from csv files"
      ]
    },
    {
      "cell_type": "code",
      "metadata": {
        "id": "ooKOsrf8MKrO",
        "colab_type": "code",
        "colab": {}
      },
      "source": [
        "train_loc = 'gdrive/My Drive/subtask-2/train.csv'\n",
        "dev_loc = 'gdrive/My Drive/subtask-2/dev.csv'\n",
        "test_loc = 'gdrive/My Drive/subtask-2/test.csv'\n",
        "train = pd.read_csv(train_loc)  \n",
        "valid = pd.read_csv(dev_loc)\n",
        "test = pd.read_csv(test_loc)"
      ],
      "execution_count": null,
      "outputs": []
    },
    {
      "cell_type": "code",
      "metadata": {
        "id": "WAA7mYMzMK1M",
        "colab_type": "code",
        "colab": {}
      },
      "source": [
        "def get_edited_headlines_list(headls_words):\n",
        "    # list of new edited headlines\n",
        "    headls_list = []\n",
        "    \n",
        "    for origin_headl, new_word in headls_words:\n",
        "      # pattern\n",
        "      p = re.compile(r'\\<(.*?)\\/\\>')\n",
        "      # get the new edited headline\n",
        "      new_headl = p.sub(new_word, origin_headl)\n",
        "      # add it to the list\n",
        "      headls_list.append(new_headl)\n",
        "\n",
        "    return headls_list\n",
        "\n",
        "\n",
        "def processed_data_to_lists(train):\n",
        "    headls_words_1 = [(origin_headl_1, new_word_1) for (origin_headl_1, new_word_1) in zip(train.original1.to_list(), train.edit1.to_list())]\n",
        "    headls_words_2 = [(origin_headl_2, new_word_2) for (origin_headl_2, new_word_2) in zip(train.original2.to_list(), train.edit2.to_list())]\n",
        "    labels_list = train.label.to_list()\n",
        "    meanGrade1_list = train.meanGrade1.to_list()\n",
        "    meanGrade2_list = train.meanGrade2.to_list()\n",
        "    meanGrade_list = meanGrade1_list + meanGrade2_list\n",
        "\n",
        "    headls_1 = get_edited_headlines_list(headls_words_1)\n",
        "    headls_2 = get_edited_headlines_list(headls_words_2)\n",
        "\n",
        "    return headls_1, headls_2, labels_list, meanGrade_list\n",
        "\n"
      ],
      "execution_count": null,
      "outputs": []
    },
    {
      "cell_type": "markdown",
      "metadata": {
        "id": "cPEAi_Cf1Iqt",
        "colab_type": "text"
      },
      "source": [
        "## Get lists of headlines and list of labels"
      ]
    },
    {
      "cell_type": "code",
      "metadata": {
        "id": "kSgjtdHRMK-q",
        "colab_type": "code",
        "colab": {}
      },
      "source": [
        "train_headls_1, train_headls_2, train_labels_list, train_meanGrade_list = processed_data_to_lists(train)\n",
        "valid_headls_1, valid_headls_2, valid_labels_list, valid_meanGrade_list = processed_data_to_lists(valid)\n",
        "test_headls_1, test_headls_2, test_labels_list, test_meanGrade_list = processed_data_to_lists(test)"
      ],
      "execution_count": null,
      "outputs": []
    },
    {
      "cell_type": "code",
      "metadata": {
        "id": "-PH_wE8JArmh",
        "colab_type": "code",
        "colab": {}
      },
      "source": [
        "train_headls = train_headls_1 + train_headls_2\n",
        "valid_headls = valid_headls_1 + valid_headls_2\n",
        "test_headls = test_headls_1 + test_headls_2"
      ],
      "execution_count": null,
      "outputs": []
    },
    {
      "cell_type": "code",
      "metadata": {
        "id": "JkgCDCDPAsYp",
        "colab_type": "code",
        "colab": {
          "base_uri": "https://localhost:8080/",
          "height": 66,
          "referenced_widgets": [
            "0841ed0619e24bd6ae368c341553a59e",
            "185c554df7384fd28b8f1c9f859476c3",
            "a11b150704e44eeeb2cabf89f6be7c89",
            "e848256fa5894283935aa12034fe7e01",
            "33ed4559e4774873ba4d0d84c0891e58",
            "e7e500d60ae041f18b084a7f4f4412ae",
            "076ed5a02f46479591dca5aaf38a7059",
            "5d256b06682e41678f717df3253760ee"
          ]
        },
        "outputId": "156f62eb-27af-47c1-e8ef-8c895218776e"
      },
      "source": [
        "from transformers import AlbertTokenizer\n",
        "\n",
        "# Load the ALBERT tokenizer.\n",
        "tokenizer = AlbertTokenizer.from_pretrained('albert-base-v2', do_lower_case=True)"
      ],
      "execution_count": null,
      "outputs": [
        {
          "output_type": "display_data",
          "data": {
            "application/vnd.jupyter.widget-view+json": {
              "model_id": "0841ed0619e24bd6ae368c341553a59e",
              "version_minor": 0,
              "version_major": 2
            },
            "text/plain": [
              "HBox(children=(FloatProgress(value=0.0, description='Downloading', max=760289.0, style=ProgressStyle(descripti…"
            ]
          },
          "metadata": {
            "tags": []
          }
        },
        {
          "output_type": "stream",
          "text": [
            "\n"
          ],
          "name": "stdout"
        }
      ]
    },
    {
      "cell_type": "code",
      "metadata": {
        "id": "EKNmwLrzudWC",
        "colab_type": "code",
        "colab": {
          "base_uri": "https://localhost:8080/",
          "height": 88
        },
        "outputId": "0f4b1b41-294d-4bd9-cd7a-bbd68c0158e3"
      },
      "source": [
        "print(' Original: ', train_headls_1[0])\n",
        "\n",
        "print('Tokenized: ', tokenizer.tokenize(train_headls_1[0]))\n",
        "\n",
        "print('Token IDs: ', tokenizer.convert_tokens_to_ids(tokenizer.tokenize(train_headls_1[0])))"
      ],
      "execution_count": null,
      "outputs": [
        {
          "output_type": "stream",
          "text": [
            " Original:  \" Gene Cernan , Last Dancer on the Moon , Dies at 82 \"\n",
            "Tokenized:  ['▁', '\"', '▁gene', '▁cer', 'nan', '▁', ',', '▁last', '▁dancer', '▁on', '▁the', '▁moon', '▁', ',', '▁dies', '▁at', '▁82', '▁', '\"']\n",
            "Token IDs:  [13, 7, 3194, 6173, 3198, 13, 15, 236, 7799, 27, 14, 2121, 13, 15, 8972, 35, 9766, 13, 7]\n"
          ],
          "name": "stdout"
        }
      ]
    },
    {
      "cell_type": "markdown",
      "metadata": {
        "id": "De9MytTHAITV",
        "colab_type": "text"
      },
      "source": [
        "## Max sequence length for ALBERT"
      ]
    },
    {
      "cell_type": "code",
      "metadata": {
        "id": "Fb5crsr9udgo",
        "colab_type": "code",
        "colab": {
          "base_uri": "https://localhost:8080/",
          "height": 51
        },
        "outputId": "f9eb6e69-82d1-4662-98c1-100d5eb83b67"
      },
      "source": [
        "max_one_len = 0\n",
        "\n",
        "for headl in train_headls:\n",
        "    # Tokenize the text and add `[CLS]` and `[SEP]` tokens.\n",
        "    input_ids = tokenizer.encode(headl, add_special_tokens=True)\n",
        "    # Update the maximum sentence length.\n",
        "    max_one_len = max(max_one_len, len(input_ids))\n",
        "\n",
        "print('Max sequence length for two sentences: ', (max_one_len-1)*2)\n",
        "print('Max sequence length for one sentence: ', max_one_len)"
      ],
      "execution_count": null,
      "outputs": [
        {
          "output_type": "stream",
          "text": [
            "Max sequence length for two sentences:  92\n",
            "Max sequence length for one sentence:  47\n"
          ],
          "name": "stdout"
        }
      ]
    },
    {
      "cell_type": "markdown",
      "metadata": {
        "id": "oE6vMueW_kf8",
        "colab_type": "text"
      },
      "source": [
        "## Get encoded inputs for ALBERT"
      ]
    },
    {
      "cell_type": "code",
      "metadata": {
        "id": "DJGCW4pC2XG7",
        "colab_type": "code",
        "colab": {}
      },
      "source": [
        "# prepare encoded inputs for real task\n",
        "train_encoded_inputs = tokenizer(train_headls_1, train_headls_2, padding='max_length', max_length=92, truncation=True, return_tensors=\"pt\")\n",
        "valid_encoded_inputs = tokenizer(valid_headls_1, valid_headls_2, padding='max_length', max_length=92, truncation=True, return_tensors=\"pt\")\n",
        "test_encoded_inputs = tokenizer(test_headls_1, test_headls_2, padding='max_length', max_length=92, truncation=True, return_tensors=\"pt\")\n",
        "\n",
        "# prepare encoded inputs for fake task\n",
        "pre_train_encoded = tokenizer(train_headls, padding='max_length', max_length=47, truncation=True, return_tensors=\"pt\")\n",
        "pre_valid_encoded = tokenizer(valid_headls, padding='max_length', max_length=47, truncation=True, return_tensors=\"pt\")"
      ],
      "execution_count": null,
      "outputs": []
    },
    {
      "cell_type": "code",
      "metadata": {
        "id": "WjUbZTv15O4q",
        "colab_type": "code",
        "colab": {
          "base_uri": "https://localhost:8080/",
          "height": 34
        },
        "outputId": "05230908-3595-42c8-f7bc-293692c1c882"
      },
      "source": [
        "# get input_ids, attention_mask, token_type_ids and labels for real task\n",
        "train_input_ids = train_encoded_inputs['input_ids']\n",
        "train_attention_mask = train_encoded_inputs['attention_mask']\n",
        "train_token_type_ids = train_encoded_inputs['token_type_ids']\n",
        "train_labels = torch.tensor(train_labels_list)\n",
        "\n",
        "valid_input_ids = valid_encoded_inputs['input_ids']\n",
        "valid_attention_mask = valid_encoded_inputs['attention_mask']\n",
        "valid_token_type_ids = valid_encoded_inputs['token_type_ids']\n",
        "valid_labels = torch.tensor(valid_labels_list)\n",
        "\n",
        "test_input_ids = test_encoded_inputs['input_ids']\n",
        "test_attention_mask = test_encoded_inputs['attention_mask']\n",
        "test_token_type_ids = test_encoded_inputs['token_type_ids']\n",
        "test_labels = torch.tensor(test_labels_list)\n",
        "\n",
        "\n",
        "# get input_ids, attention_mask and labels for fake task\n",
        "pre_train_input_ids = pre_train_encoded['input_ids']\n",
        "pre_train_attention_mask = pre_train_encoded['attention_mask']\n",
        "pre_train_labels = torch.tensor(train_meanGrade_list)\n",
        "\n",
        "pre_valid_input_ids = pre_valid_encoded['input_ids']\n",
        "pre_valid_attention_mask = pre_valid_encoded['attention_mask']\n",
        "pre_valid_labels = torch.tensor(valid_meanGrade_list)\n",
        "\n",
        "pre_train_input_ids[0]\n",
        "pre_train_labels"
      ],
      "execution_count": null,
      "outputs": [
        {
          "output_type": "execute_result",
          "data": {
            "text/plain": [
              "tensor([1.2000, 0.6000, 0.6000,  ..., 2.2000, 1.8000, 0.2000])"
            ]
          },
          "metadata": {
            "tags": []
          },
          "execution_count": 18
        }
      ]
    },
    {
      "cell_type": "markdown",
      "metadata": {
        "id": "W_G4N1_nHDBS",
        "colab_type": "text"
      },
      "source": [
        "## Prepare mini-batches"
      ]
    },
    {
      "cell_type": "code",
      "metadata": {
        "id": "JFBTt-rLGwOW",
        "colab_type": "code",
        "colab": {}
      },
      "source": [
        "class BERT_Dataset(tud.Dataset):\n",
        "    def __init__(self, x1, x2, x3, y1):\n",
        "        self.len = x1.shape[0]\n",
        "\n",
        "        self.x1_data = x1.to(DEVICE)\n",
        "        self.x2_data = x2.to(DEVICE)\n",
        "        self.x3_data = x3.to(DEVICE)\n",
        "        self.y1_data = y1.to(DEVICE)\n",
        "\n",
        "\n",
        "    def __getitem__(self, index):\n",
        "        return self.x1_data[index], self.x2_data[index], self.x3_data[index], self.y1_data[index]\n",
        "\n",
        "\n",
        "    def __len__(self):\n",
        "        return self.len\n",
        "\n",
        "\n",
        "class Pre_BERT_Dataset(tud.Dataset):\n",
        "    def __init__(self, x1, x2, y1):\n",
        "        self.len = x1.shape[0]\n",
        "\n",
        "        self.x1_data = x1.to(DEVICE)\n",
        "        self.x2_data = x2.to(DEVICE)\n",
        "        self.y1_data = y1.to(DEVICE)\n",
        "\n",
        "\n",
        "    def __getitem__(self, index):\n",
        "        return self.x1_data[index], self.x2_data[index], self.y1_data[index]\n",
        "\n",
        "\n",
        "    def __len__(self):\n",
        "        return self.len"
      ],
      "execution_count": null,
      "outputs": []
    },
    {
      "cell_type": "code",
      "metadata": {
        "id": "GAv8-n4iFcN0",
        "colab_type": "code",
        "colab": {
          "base_uri": "https://localhost:8080/",
          "height": 119
        },
        "outputId": "603ce814-15c8-43e5-ed1a-a03d6de57376"
      },
      "source": [
        "fix_seed()\n",
        "# Batching for BERT\n",
        "BATCH_SIZE = 16\n",
        "\n",
        "# For real task\n",
        "train_dataset = BERT_Dataset(train_input_ids, train_attention_mask, train_token_type_ids, train_labels)\n",
        "valid_dataset = BERT_Dataset(valid_input_ids, valid_attention_mask, valid_token_type_ids, valid_labels)\n",
        "test_dataset = BERT_Dataset(test_input_ids, test_attention_mask, test_token_type_ids, test_labels)\n",
        "\n",
        "train_dataloader = tud.DataLoader(train_dataset, batch_size=BATCH_SIZE, shuffle=True)\n",
        "valid_dataloader = tud.DataLoader(valid_dataset, batch_size=BATCH_SIZE, shuffle=True)\n",
        "test_dataloader = tud.DataLoader(test_dataset, batch_size=BATCH_SIZE, shuffle=True)\n",
        "\n",
        "# For fake task\n",
        "pre_train_dataset = Pre_BERT_Dataset(pre_train_input_ids, pre_train_attention_mask, pre_train_labels)\n",
        "pre_valid_dataset = Pre_BERT_Dataset(pre_valid_input_ids, pre_valid_attention_mask, pre_valid_labels)\n",
        "\n",
        "pre_train_dataloader = tud.DataLoader(pre_train_dataset, batch_size=BATCH_SIZE, shuffle=True)\n",
        "pre_valid_dataloader = tud.DataLoader(pre_valid_dataset, batch_size=BATCH_SIZE, shuffle=True)\n",
        "\n",
        "\n",
        "##### demo #####\n",
        "print(train_dataloader)\n",
        "\n",
        "for x1, x2, x3, y1 in train_dataloader:\n",
        "    demo_x1 = x1\n",
        "    demo_x2 = x2\n",
        "    demo_x3 = x3\n",
        "    demo_y1 = y1\n",
        "    break\n",
        "    \n",
        "print(x1.shape)\n",
        "print(x2.shape)\n",
        "print(x3.shape)\n",
        "print(y1.shape)\n",
        "print(len(train_dataloader))"
      ],
      "execution_count": null,
      "outputs": [
        {
          "output_type": "stream",
          "text": [
            "<torch.utils.data.dataloader.DataLoader object at 0x7f7dcf5f6710>\n",
            "torch.Size([16, 92])\n",
            "torch.Size([16, 92])\n",
            "torch.Size([16, 92])\n",
            "torch.Size([16])\n",
            "587\n"
          ],
          "name": "stdout"
        }
      ]
    },
    {
      "cell_type": "markdown",
      "metadata": {
        "id": "V7SP8TiKLcL2",
        "colab_type": "text"
      },
      "source": [
        "# Training Preparation "
      ]
    },
    {
      "cell_type": "markdown",
      "metadata": {
        "id": "ry7hbzFyLFz6",
        "colab_type": "text"
      },
      "source": [
        "## Define accuracy"
      ]
    },
    {
      "cell_type": "code",
      "metadata": {
        "id": "3IozWES_NudS",
        "colab_type": "code",
        "colab": {}
      },
      "source": [
        "def accuracy(preds, y):\n",
        "    \"\"\"\n",
        "    returns accuracy per batch\n",
        "    \"\"\"\n",
        "\n",
        "    class_preds =  torch.argmax(F.softmax(preds, dim = 1), 1)\n",
        "    correct = (class_preds == y).float() # convert into float for division \n",
        "    acc = correct.sum() / len(correct)\n",
        "    return acc"
      ],
      "execution_count": null,
      "outputs": []
    },
    {
      "cell_type": "markdown",
      "metadata": {
        "id": "Nx-ADOt3MlHg",
        "colab_type": "text"
      },
      "source": [
        "## Define train and evaluate"
      ]
    },
    {
      "cell_type": "code",
      "metadata": {
        "id": "oL8RT5k2Bn5W",
        "colab_type": "code",
        "colab": {}
      },
      "source": [
        "# define train_BERT and evaluate_BERT for real task\n",
        "def train_BERT(model, train_dataloader, valid_dataloader, optimizer, scheduler, criterion, N_EPOCHS):\n",
        "    fix_seed()\n",
        "    model = model.to(DEVICE)\n",
        "    model_list = []\n",
        "    # Measure the total time for the whole run.\n",
        "    t0 = time.time()\n",
        "\n",
        "    for epoch in range(N_EPOCHS):\n",
        "    \n",
        "        start_time = time.time()\n",
        "        # To ensure the dropout is \"turned on\" while training\n",
        "        model.train()\n",
        "        \n",
        "        epoch_loss = 0\n",
        "        epoch_acc = 0\n",
        "    \n",
        "        for input_ids_batch, attention_mask_batch, token_type_ids_batch, labels in train_dataloader:\n",
        "                        \n",
        "            # Zero the gradients\n",
        "            optimizer.zero_grad()\n",
        "            # shape(input_ids_batch) = [B, T]\n",
        "            # shape(attention_mask_batch) = [B, T]\n",
        "            # shape(labels) = [B]\n",
        "\n",
        "            # get the output\n",
        "            predictions = model(input_ids_batch,\n",
        "                                attention_mask_batch,\n",
        "                                token_type_ids_batch)\n",
        "            \n",
        "            # calculate the loss\n",
        "            loss = criterion(predictions.view(-1, 3), labels.view(-1))\n",
        "\n",
        "            # calculate training accuracy\n",
        "            acc = accuracy(predictions, labels)\n",
        "                      \n",
        "            # calculate the gradient of each parameter\n",
        "            loss.backward()\n",
        "        \n",
        "            # update the parameters using the gradients and optimizer algorithm \n",
        "            optimizer.step()\n",
        "\n",
        "            # update the learning rate\n",
        "            scheduler.step()\n",
        "            \n",
        "            epoch_loss += loss.item()\n",
        "            epoch_acc += acc.item()\n",
        "            \n",
        "        average_epoch_loss = epoch_loss / len(train_dataloader)\n",
        "        average_epoch_acc = epoch_acc / len(train_dataloader)\n",
        "        \n",
        "        end_time = time.time()\n",
        "               \n",
        "        epoch_mins, epoch_secs = run_time(start_time, end_time)\n",
        "    \n",
        "        average_epoch_valid_loss, average_epoch_valid_acc = evaluate_BERT(model, criterion, valid_dataloader)\n",
        "\n",
        "        print(f'Epoch: {epoch+1:02} | Epoch Time: {epoch_mins}m {epoch_secs}s')\n",
        "        print(f'\\tTrain Loss: {average_epoch_loss:.5f} | Train Acc: {average_epoch_acc*100:.4f}%')\n",
        "        print(f'\\t Val. Loss: {average_epoch_valid_loss:.5f} |  Val. Acc: {average_epoch_valid_acc*100:.4f}%')\n",
        "\n",
        "        model_list.append(model)\n",
        "\n",
        "    print(\"\")\n",
        "    print(\"***Completed***\")\n",
        "    total_mins, total_secs = run_time(t0, time.time())\n",
        "    print(f'Total time spent: {total_mins}m {total_secs}s')\n",
        "\n",
        "    return average_epoch_loss, average_epoch_acc, average_epoch_valid_loss, average_epoch_valid_acc, model_list\n",
        "\n",
        "def evaluate_BERT(model, criterion, dataloader):\n",
        "    fix_seed()\n",
        "    epoch_loss = 0\n",
        "    epoch_acc = 0\n",
        "    # Turn on evaluate mode. This de-activates dropout. \n",
        "    model.eval()\n",
        "\n",
        "    # We do not compute gradients within this block, i.e. no training\n",
        "    with torch.no_grad():\n",
        "\n",
        "        for input_ids_batch, attention_mask_batch, token_type_ids_batch, labels in dataloader:\n",
        "            \n",
        "            # get the output\n",
        "            predictions = model(input_ids_batch,\n",
        "                            attention_mask_batch,\n",
        "                            token_type_ids_batch)\n",
        "\n",
        "            loss = criterion(predictions.view(-1, 3), labels.view(-1))\n",
        "            acc = accuracy(predictions, labels)\n",
        "            epoch_loss += loss.item()\n",
        "            epoch_acc += acc.item()\n",
        "\n",
        "    return epoch_loss / len(dataloader), epoch_acc / len(dataloader)"
      ],
      "execution_count": null,
      "outputs": []
    },
    {
      "cell_type": "code",
      "metadata": {
        "id": "7tVyUsUDAt3d",
        "colab_type": "code",
        "colab": {}
      },
      "source": [
        "# define train_BERT and evaluate_BERT for fake regression task\n",
        "def pre_train_BERT(model, train_dataloader, valid_dataloader, optimizer, scheduler, criterion, N_EPOCHS):\n",
        "    fix_seed()\n",
        "    model = model.to(DEVICE)\n",
        "    model_list = []\n",
        "    t0 = time.time()\n",
        "\n",
        "    for epoch in range(N_EPOCHS):    \n",
        "        start_time = time.time()\n",
        "        model.train()       \n",
        "        epoch_loss = 0\n",
        "        epoch_acc = 0\n",
        "    \n",
        "        for input_ids_batch, attention_mask_batch, labels in train_dataloader:                       \n",
        "            optimizer.zero_grad()\n",
        "\n",
        "            predictions = model(input_ids_batch,\n",
        "                                attention_mask_batch)\n",
        "            \n",
        "            loss = criterion(predictions.view(-1), labels.view(-1))                      \n",
        "            loss.backward()        \n",
        "            optimizer.step()\n",
        "            scheduler.step()          \n",
        "            epoch_loss += loss.item()\n",
        "            \n",
        "        average_epoch_loss = epoch_loss / len(train_dataloader)\n",
        "        \n",
        "        end_time = time.time()               \n",
        "        epoch_mins, epoch_secs = run_time(start_time, end_time)\n",
        "    \n",
        "        average_epoch_valid_loss = pre_evaluate_BERT(model, criterion, valid_dataloader)\n",
        "\n",
        "        print(f'Epoch: {epoch+1:02} | Epoch Time: {epoch_mins}m {epoch_secs}s')\n",
        "        print(f'\\tTrain Loss: {average_epoch_loss:.5f} ')\n",
        "        print(f'\\t Val. Loss: {average_epoch_valid_loss:.5f} ')\n",
        "        \n",
        "        model_list.append(model)\n",
        "\n",
        "    print(\"\")\n",
        "    print(\"***Completed***\")\n",
        "    total_mins, total_secs = run_time(t0, time.time())\n",
        "    print(f'Total time spent: {total_mins}m {total_secs}s')\n",
        "\n",
        "    return average_epoch_loss, average_epoch_valid_loss, model_list\n",
        "\n",
        "def pre_evaluate_BERT(model, criterion, dataloader):\n",
        "    fix_seed()\n",
        "    epoch_loss = 0\n",
        "    model.eval()\n",
        "\n",
        "    with torch.no_grad():\n",
        "\n",
        "        for input_ids_batch, attention_mask_batch, labels in dataloader:\n",
        "            \n",
        "            predictions = model(input_ids_batch,\n",
        "                                attention_mask_batch)\n",
        "\n",
        "            loss = criterion(predictions.view(-1), labels.view(-1))\n",
        "            epoch_loss += loss.item()\n",
        "\n",
        "    return epoch_loss / len(dataloader)"
      ],
      "execution_count": null,
      "outputs": []
    },
    {
      "cell_type": "markdown",
      "metadata": {
        "id": "gk-lxAmtJIjE",
        "colab_type": "text"
      },
      "source": [
        "## Define models"
      ]
    },
    {
      "cell_type": "code",
      "metadata": {
        "id": "yHcJOucfJN3X",
        "colab_type": "code",
        "colab": {}
      },
      "source": [
        "from transformers import AlbertModel, BertModel, ElectraModel, AdamW\n",
        "\n",
        "class AlbertModel_FakeTask(nn.Module):\n",
        "    def __init__(self):\n",
        "        super(AlbertModel_FakeTask, self).__init__()\n",
        "        self.albert = AlbertModel.from_pretrained('albert-base-v2')\n",
        "        self.linear = nn.Linear(768, 1)\n",
        "\n",
        "    def forward(self, source, mask):\n",
        "        output = self.albert(source, attention_mask=mask)\n",
        "        # take the last hidden state\n",
        "        hidden = output[0]\n",
        "        # take the representations for CLS\n",
        "        all_cls = hidden[:, 0, :]\n",
        "        # pass to linear layer to get the score for each sentence(cls here)\n",
        "        pred = self.linear(all_cls)\n",
        "\n",
        "        return pred\n",
        "\n",
        "\n",
        "class AlbertModel_Real(nn.Module):\n",
        "    def __init__(self, albert_model):\n",
        "        super(AlbertModel_Real, self).__init__()\n",
        "        self.albert = albert_model\n",
        "        self.classifier = nn.Linear(768, 3)\n",
        "\n",
        "    def forward(self, source, mask, type_ids):\n",
        "        output = self.albert(source, attention_mask=mask, token_type_ids=type_ids)\n",
        "        # take the last hidden state\n",
        "        hidden = output[0]\n",
        "        # take the representations for CLS\n",
        "        all_cls = hidden[:, 0, :]\n",
        "        # pass to linear layer to get the prediction for every sentence pairs(cls here)\n",
        "        pred = self.classifier(all_cls)\n",
        "\n",
        "        return pred"
      ],
      "execution_count": null,
      "outputs": []
    },
    {
      "cell_type": "markdown",
      "metadata": {
        "id": "O_F_bL7Ro4_s",
        "colab_type": "text"
      },
      "source": [
        "# Fake Task"
      ]
    },
    {
      "cell_type": "code",
      "metadata": {
        "id": "9eb57bSMcDKp",
        "colab_type": "code",
        "colab": {
          "base_uri": "https://localhost:8080/",
          "height": 476
        },
        "outputId": "2c32c778-59fd-422c-f92d-3bfed539f6a7"
      },
      "source": [
        "fix_seed()\n",
        "# Create the pre_model for the fake task\n",
        "pre_model = AlbertModel_FakeTask()\n",
        "\n",
        "param_names_list = [n for n, p in pre_model.named_parameters()]\n",
        "param_names_list"
      ],
      "execution_count": null,
      "outputs": [
        {
          "output_type": "execute_result",
          "data": {
            "text/plain": [
              "['albert.embeddings.word_embeddings.weight',\n",
              " 'albert.embeddings.position_embeddings.weight',\n",
              " 'albert.embeddings.token_type_embeddings.weight',\n",
              " 'albert.embeddings.LayerNorm.weight',\n",
              " 'albert.embeddings.LayerNorm.bias',\n",
              " 'albert.encoder.embedding_hidden_mapping_in.weight',\n",
              " 'albert.encoder.embedding_hidden_mapping_in.bias',\n",
              " 'albert.encoder.albert_layer_groups.0.albert_layers.0.full_layer_layer_norm.weight',\n",
              " 'albert.encoder.albert_layer_groups.0.albert_layers.0.full_layer_layer_norm.bias',\n",
              " 'albert.encoder.albert_layer_groups.0.albert_layers.0.attention.query.weight',\n",
              " 'albert.encoder.albert_layer_groups.0.albert_layers.0.attention.query.bias',\n",
              " 'albert.encoder.albert_layer_groups.0.albert_layers.0.attention.key.weight',\n",
              " 'albert.encoder.albert_layer_groups.0.albert_layers.0.attention.key.bias',\n",
              " 'albert.encoder.albert_layer_groups.0.albert_layers.0.attention.value.weight',\n",
              " 'albert.encoder.albert_layer_groups.0.albert_layers.0.attention.value.bias',\n",
              " 'albert.encoder.albert_layer_groups.0.albert_layers.0.attention.dense.weight',\n",
              " 'albert.encoder.albert_layer_groups.0.albert_layers.0.attention.dense.bias',\n",
              " 'albert.encoder.albert_layer_groups.0.albert_layers.0.attention.LayerNorm.weight',\n",
              " 'albert.encoder.albert_layer_groups.0.albert_layers.0.attention.LayerNorm.bias',\n",
              " 'albert.encoder.albert_layer_groups.0.albert_layers.0.ffn.weight',\n",
              " 'albert.encoder.albert_layer_groups.0.albert_layers.0.ffn.bias',\n",
              " 'albert.encoder.albert_layer_groups.0.albert_layers.0.ffn_output.weight',\n",
              " 'albert.encoder.albert_layer_groups.0.albert_layers.0.ffn_output.bias',\n",
              " 'albert.pooler.weight',\n",
              " 'albert.pooler.bias',\n",
              " 'linear.weight',\n",
              " 'linear.bias']"
            ]
          },
          "metadata": {
            "tags": []
          },
          "execution_count": 109
        }
      ]
    },
    {
      "cell_type": "markdown",
      "metadata": {
        "id": "dfnCDZLLUuVj",
        "colab_type": "text"
      },
      "source": [
        "## Hyperparameters"
      ]
    },
    {
      "cell_type": "code",
      "metadata": {
        "id": "dlF41zJHKurw",
        "colab_type": "code",
        "colab": {}
      },
      "source": [
        "# Hyperparameters for the fake task LM:\n",
        "\n",
        "# Number of training epochs. The BERT authors recommend between 2 and 4.\n",
        "N_EPOCHS = 3\n",
        "\n",
        "LRATE = 5e-3\n",
        "FRATE = 2e-5\n",
        "EPS = 1e-8\n",
        "WU = 0.1\n",
        "WDECAY = 0.01\n",
        "\n",
        "# Total number of training steps is [number of batches] x [number of epochs]. \n",
        "TOTSTEPS = len(train_dataloader) * N_EPOCHS\n",
        "WUSTEPS = int(TOTSTEPS * WU)\n",
        "\n",
        "# Apply weight decay to all parameters other than bias and layer normalization terms\n",
        "# Optimize the parameters of the head layer by the learning rate\n",
        "# Optimize the parameters of the pretrain LM by the fine-tuning rate\n",
        "no_decay = ['bias', 'LayerNorm.weight']\n",
        "named_parameters = pre_model.named_parameters()\n",
        "optimizer_grouped_parameters = [\n",
        "    {'params': [p for n, p in named_parameters if not any(nd in n for nd in no_decay)], 'weight_decay': WDECAY},\n",
        "    {'params': [p for n, p in named_parameters if any(nd in n for nd in no_decay)], 'weight_decay': 0.0},\n",
        "    {'params': [p for n, p in named_parameters if \"albert\" not in n], 'lr': LRATE}\n",
        "]\n",
        "#    {'params': [p for n, p in named_parameters if \"albert\" in n], 'lr': FRATE},"
      ],
      "execution_count": null,
      "outputs": []
    },
    {
      "cell_type": "markdown",
      "metadata": {
        "id": "-Y55KlMtWSvV",
        "colab_type": "text"
      },
      "source": [
        "## Optimizer & learning rate scheduler"
      ]
    },
    {
      "cell_type": "code",
      "metadata": {
        "id": "vg-o8bvyBoDx",
        "colab_type": "code",
        "colab": {}
      },
      "source": [
        "# Create the optimizer, \n",
        "# the epsilon parameter is a very small number to prevent any division by zero\n",
        "optimizer = AdamW(optimizer_grouped_parameters, lr=FRATE, eps = EPS)"
      ],
      "execution_count": null,
      "outputs": []
    },
    {
      "cell_type": "code",
      "metadata": {
        "id": "J6uz9uWdBoH6",
        "colab_type": "code",
        "colab": {}
      },
      "source": [
        "from transformers import get_linear_schedule_with_warmup\n",
        "\n",
        "# Create the learning rate scheduler.\n",
        "scheduler = get_linear_schedule_with_warmup(optimizer, \n",
        "                                            num_warmup_steps = WUSTEPS,\n",
        "                                            num_training_steps = TOTSTEPS)"
      ],
      "execution_count": null,
      "outputs": []
    },
    {
      "cell_type": "markdown",
      "metadata": {
        "id": "zWK17_ZgEY8H",
        "colab_type": "text"
      },
      "source": [
        "## Define RMSE"
      ]
    },
    {
      "cell_type": "code",
      "metadata": {
        "id": "h4o3ue7mEi09",
        "colab_type": "code",
        "colab": {}
      },
      "source": [
        "# define rmse\n",
        "def rmse(predictions, labels):\n",
        "    loss = torch.sqrt(((predictions - labels)**2).mean())\n",
        "\n",
        "    return loss"
      ],
      "execution_count": null,
      "outputs": []
    },
    {
      "cell_type": "markdown",
      "metadata": {
        "id": "Uv3-MI3pX2tr",
        "colab_type": "text"
      },
      "source": [
        "## Fake task training"
      ]
    },
    {
      "cell_type": "code",
      "metadata": {
        "id": "j7uePPEGBoMu",
        "colab_type": "code",
        "colab": {
          "base_uri": "https://localhost:8080/",
          "height": 221
        },
        "outputId": "8df2996d-3c48-48d3-f616-83d71148b785"
      },
      "source": [
        "criterion_r = rmse\n",
        "\n",
        "train_loss, val_loss, model_list = pre_train_BERT(pre_model,\n",
        "                                                  pre_train_dataloader,\n",
        "                                                  pre_valid_dataloader,\n",
        "                                                  optimizer,\n",
        "                                                  scheduler,\n",
        "                                                  criterion_r,\n",
        "                                                  N_EPOCHS)"
      ],
      "execution_count": null,
      "outputs": [
        {
          "output_type": "stream",
          "text": [
            "Epoch: 01 | Epoch Time: 2m 56s\n",
            "\tTrain Loss: 0.56912 \n",
            "\t Val. Loss: 0.53872 \n",
            "Epoch: 02 | Epoch Time: 2m 55s\n",
            "\tTrain Loss: 0.52356 \n",
            "\t Val. Loss: 0.53316 \n",
            "Epoch: 03 | Epoch Time: 2m 54s\n",
            "\tTrain Loss: 0.51733 \n",
            "\t Val. Loss: 0.53316 \n",
            "\n",
            "***Completed***\n",
            "Total time spent: 9m 38s\n"
          ],
          "name": "stdout"
        }
      ]
    },
    {
      "cell_type": "markdown",
      "metadata": {
        "id": "bKSdErzjMKAs",
        "colab_type": "text"
      },
      "source": [
        "## Fake task logging"
      ]
    },
    {
      "cell_type": "code",
      "metadata": {
        "id": "pOl5Sa_0MRb2",
        "colab_type": "code",
        "colab": {
          "base_uri": "https://localhost:8080/",
          "height": 173
        },
        "outputId": "387a3468-5def-47da-f01c-d514e2057ca1"
      },
      "source": [
        "B1 = \"bert-base-uncased\"\n",
        "A2 = \"albert-base-v2\"\n",
        "E = \"electra\"\n",
        "\n",
        "fake_task_stats, log_num_f = add_fake_task_stats(fake_task_stats, \n",
        "                                             log_num_f,\n",
        "                                             A2,\n",
        "                                             BATCH_SIZE, \n",
        "                                             N_EPOCHS,\n",
        "                                             \"{:.0e}\".format(LRATE),\n",
        "                                             \"{:.0e}\".format(FRATE), \n",
        "                                             \"{:.0e}\".format(EPS), \n",
        "                                             WU,\n",
        "                                             WDECAY, \n",
        "                                             train_loss,\n",
        "                                             val_loss\n",
        "                                             )\n",
        "\n",
        "pd.set_option('precision', 5)\n",
        "df_stats = pd.DataFrame(data=fake_task_stats)\n",
        "df_stats = df_stats.set_index('log')\n",
        "# Display the table.\n",
        "df_stats"
      ],
      "execution_count": null,
      "outputs": [
        {
          "output_type": "execute_result",
          "data": {
            "text/html": [
              "<div>\n",
              "<style scoped>\n",
              "    .dataframe tbody tr th:only-of-type {\n",
              "        vertical-align: middle;\n",
              "    }\n",
              "\n",
              "    .dataframe tbody tr th {\n",
              "        vertical-align: top;\n",
              "    }\n",
              "\n",
              "    .dataframe thead th {\n",
              "        text-align: right;\n",
              "    }\n",
              "</style>\n",
              "<table border=\"1\" class=\"dataframe\">\n",
              "  <thead>\n",
              "    <tr style=\"text-align: right;\">\n",
              "      <th></th>\n",
              "      <th>Model Name</th>\n",
              "      <th>Batch Size</th>\n",
              "      <th>N_Epochs</th>\n",
              "      <th>lr</th>\n",
              "      <th>fr</th>\n",
              "      <th>eps</th>\n",
              "      <th>wu</th>\n",
              "      <th>wd</th>\n",
              "      <th>Training Loss</th>\n",
              "      <th>Valid. Loss</th>\n",
              "    </tr>\n",
              "    <tr>\n",
              "      <th>log</th>\n",
              "      <th></th>\n",
              "      <th></th>\n",
              "      <th></th>\n",
              "      <th></th>\n",
              "      <th></th>\n",
              "      <th></th>\n",
              "      <th></th>\n",
              "      <th></th>\n",
              "      <th></th>\n",
              "      <th></th>\n",
              "    </tr>\n",
              "  </thead>\n",
              "  <tbody>\n",
              "    <tr>\n",
              "      <th>1</th>\n",
              "      <td>albert-base-v2</td>\n",
              "      <td>16</td>\n",
              "      <td>3</td>\n",
              "      <td>5e-03</td>\n",
              "      <td>2e-05</td>\n",
              "      <td>1e-08</td>\n",
              "      <td>0.1</td>\n",
              "      <td>0.01</td>\n",
              "      <td>0.57585</td>\n",
              "      <td>0.57040</td>\n",
              "    </tr>\n",
              "    <tr>\n",
              "      <th>2</th>\n",
              "      <td>albert-base-v2</td>\n",
              "      <td>16</td>\n",
              "      <td>3</td>\n",
              "      <td>5e-03</td>\n",
              "      <td>2e-05</td>\n",
              "      <td>1e-08</td>\n",
              "      <td>0.1</td>\n",
              "      <td>0.01</td>\n",
              "      <td>0.57590</td>\n",
              "      <td>0.57045</td>\n",
              "    </tr>\n",
              "    <tr>\n",
              "      <th>3</th>\n",
              "      <td>albert-base-v2</td>\n",
              "      <td>16</td>\n",
              "      <td>3</td>\n",
              "      <td>5e-03</td>\n",
              "      <td>2e-05</td>\n",
              "      <td>1e-08</td>\n",
              "      <td>0.1</td>\n",
              "      <td>0.01</td>\n",
              "      <td>0.51733</td>\n",
              "      <td>0.53316</td>\n",
              "    </tr>\n",
              "  </tbody>\n",
              "</table>\n",
              "</div>"
            ],
            "text/plain": [
              "         Model Name  Batch Size  N_Epochs  ...    wd Training Loss Valid. Loss\n",
              "log                                        ...                                \n",
              "1    albert-base-v2          16         3  ...  0.01       0.57585     0.57040\n",
              "2    albert-base-v2          16         3  ...  0.01       0.57590     0.57045\n",
              "3    albert-base-v2          16         3  ...  0.01       0.51733     0.53316\n",
              "\n",
              "[3 rows x 10 columns]"
            ]
          },
          "metadata": {
            "tags": []
          },
          "execution_count": 115
        }
      ]
    },
    {
      "cell_type": "code",
      "metadata": {
        "id": "zgpu6uhSNcsp",
        "colab_type": "code",
        "colab": {}
      },
      "source": [
        "log_loc = 'gdrive/My Drive/subtask-2/log_fake_task.csv'\n",
        "df_stats.to_csv(log_loc, index=False)"
      ],
      "execution_count": null,
      "outputs": []
    },
    {
      "cell_type": "markdown",
      "metadata": {
        "id": "QYJz0PZOpLca",
        "colab_type": "text"
      },
      "source": [
        "# Real Task"
      ]
    },
    {
      "cell_type": "code",
      "metadata": {
        "id": "KioNHudYrNYp",
        "colab_type": "code",
        "colab": {}
      },
      "source": [
        "fix_seed()\n",
        "# Create the model for the real task\n",
        "albert_model = pre_model.albert\n",
        "real_model = AlbertModel_Real(albert_model)\n",
        "\n",
        "param_names_list = [n for n, p in real_model.named_parameters()]\n",
        "param_names_list"
      ],
      "execution_count": null,
      "outputs": []
    },
    {
      "cell_type": "markdown",
      "metadata": {
        "colab_type": "text",
        "id": "QmsapKVgqq59"
      },
      "source": [
        "## Hyperparameters"
      ]
    },
    {
      "cell_type": "code",
      "metadata": {
        "colab_type": "code",
        "id": "Spc2ME9Fqu5w",
        "colab": {}
      },
      "source": [
        "# Hyperparameters for the real task model:\n",
        "\n",
        "# Number of training epochs. The BERT authors recommend between 2 and 4.\n",
        "N_EPOCHS_r = 3\n",
        "\n",
        "LRATE_r = 3e-5\n",
        "FRATE_r = 5e-5\n",
        "EPS_r = 1e-8\n",
        "WU_r = 0.1\n",
        "WDECAY_r = 0.01\n",
        "\n",
        "# Total number of training steps is [number of batches] x [number of epochs]. \n",
        "TOTSTEPS_r = len(train_dataloader) * N_EPOCHS_r\n",
        "WUSTEPS_r = int(TOTSTEPS_r * WU_r)\n",
        "\n",
        "# Apply weight decay to all parameters other than bias and layer normalization terms\n",
        "# Optimize the parameters of the head layer by the learning rate\n",
        "# Optimize the parameters of the pretrain LM by the fine-tuning rate\n",
        "no_decay_r = ['bias', 'LayerNorm.weight']\n",
        "named_parameters_r = real_model.named_parameters()\n",
        "optimizer_grouped_parameters_r = [\n",
        "    {'params': [p for n, p in named_parameters_r if not any(nd in n for nd in no_decay_r)], 'weight_decay': WDECAY_r},\n",
        "    {'params': [p for n, p in named_parameters_r if any(nd in n for nd in no_decay_r)], 'weight_decay': 0.0}\n",
        "]"
      ],
      "execution_count": null,
      "outputs": []
    },
    {
      "cell_type": "markdown",
      "metadata": {
        "colab_type": "text",
        "id": "kLmrF1nesQl-"
      },
      "source": [
        "## Optimizer & learning rate scheduler"
      ]
    },
    {
      "cell_type": "code",
      "metadata": {
        "colab_type": "code",
        "id": "OdB7Ept2smOu",
        "colab": {}
      },
      "source": [
        "# Create the optimizer, \n",
        "# the epsilon parameter is a very small number to prevent any division by zero\n",
        "optimizer_r = AdamW(optimizer_grouped_parameters_r, lr=LRATE_r, eps = EPS_r)"
      ],
      "execution_count": null,
      "outputs": []
    },
    {
      "cell_type": "code",
      "metadata": {
        "colab_type": "code",
        "id": "YEP7UJ1rsqqs",
        "colab": {}
      },
      "source": [
        "# Create the learning rate scheduler.\n",
        "scheduler_r = get_linear_schedule_with_warmup(optimizer_r, \n",
        "                                            num_warmup_steps = WUSTEPS_r,\n",
        "                                            num_training_steps = TOTSTEPS_r)"
      ],
      "execution_count": null,
      "outputs": []
    },
    {
      "cell_type": "markdown",
      "metadata": {
        "id": "PM-Gpf7iI5jp",
        "colab_type": "text"
      },
      "source": [
        "## Real task training"
      ]
    },
    {
      "cell_type": "code",
      "metadata": {
        "id": "G8UtGb2dEwZ5",
        "colab_type": "code",
        "colab": {
          "base_uri": "https://localhost:8080/",
          "height": 221
        },
        "outputId": "e06419f7-d3bf-45d9-ea32-d85b547040ee"
      },
      "source": [
        "criterion_c = nn.CrossEntropyLoss()\n",
        "\n",
        "train_loss_r, train_accuracy_r, val_loss_r, val_accuracy_r, model_list_r = train_BERT(real_model,\n",
        "                                                                            train_dataloader,\n",
        "                                                                            valid_dataloader,\n",
        "                                                                            optimizer_r,\n",
        "                                                                            scheduler_r,\n",
        "                                                                            criterion_c,\n",
        "                                                                            N_EPOCHS_r)\n"
      ],
      "execution_count": null,
      "outputs": [
        {
          "output_type": "stream",
          "text": [
            "Epoch: 01 | Epoch Time: 2m 48s\n",
            "\tTrain Loss: 0.96326 | Train Acc: 45.9263%\n",
            "\t Val. Loss: 0.97672 |  Val. Acc: 43.0743%\n",
            "Epoch: 02 | Epoch Time: 2m 46s\n",
            "\tTrain Loss: 0.96141 | Train Acc: 44.6359%\n",
            "\t Val. Loss: 0.95989 |  Val. Acc: 46.1149%\n",
            "Epoch: 03 | Epoch Time: 2m 46s\n",
            "\tTrain Loss: 0.95841 | Train Acc: 45.5324%\n",
            "\t Val. Loss: 0.96040 |  Val. Acc: 45.7348%\n",
            "\n",
            "***Completed***\n",
            "Total time spent: 9m 8s\n"
          ],
          "name": "stdout"
        }
      ]
    },
    {
      "cell_type": "markdown",
      "metadata": {
        "id": "2m3M1cTNYNSu",
        "colab_type": "text"
      },
      "source": [
        "# Testing Real Task Models"
      ]
    },
    {
      "cell_type": "markdown",
      "metadata": {
        "id": "b-l7wTEcYWIX",
        "colab_type": "text"
      },
      "source": [
        "## Start testing"
      ]
    },
    {
      "cell_type": "code",
      "metadata": {
        "id": "fk0nsayzYNtb",
        "colab_type": "code",
        "colab": {
          "base_uri": "https://localhost:8080/",
          "height": 34
        },
        "outputId": "88676132-1dee-4a2c-e7d0-5714be5b1f19"
      },
      "source": [
        "fix_seed()\n",
        "\n",
        "test_loss = 0\n",
        "test_acc = 0\n",
        "test_logits_all = []\n",
        "\n",
        "# Turn on evaluate mode. This de-activates dropout. \n",
        "real_model.eval()\n",
        "\n",
        "# We do not compute gradients within this block, i.e. no training\n",
        "with torch.no_grad():\n",
        "\n",
        "    for input_ids_batch, attention_mask_batch, token_type_ids_batch, labels in test_dataloader:\n",
        "        \n",
        "        # get the output\n",
        "        predictions = real_model(input_ids_batch,\n",
        "                                 attention_mask_batch,\n",
        "                                 token_type_ids_batch)\n",
        "\n",
        "        loss_batch = criterion_c(predictions, labels)\n",
        "        test_logits_all += predictions.tolist()\n",
        "        acc_batch = accuracy(predictions, labels)\n",
        "\n",
        "        test_loss += loss_batch.item()\n",
        "        test_acc += acc_batch.item()\n",
        "\n",
        "    average_test_loss = test_loss / len(test_dataloader)\n",
        "    average_test_acc = test_acc / len(test_dataloader)\n",
        "\n",
        "print(f'Test Loss: {average_test_loss:.5f} | Test Acc: {average_test_acc*100:.7f}%')"
      ],
      "execution_count": null,
      "outputs": [
        {
          "output_type": "stream",
          "text": [
            "Test Loss: 0.96650 | Test Acc: 45.2364865%\n"
          ],
          "name": "stdout"
        }
      ]
    },
    {
      "cell_type": "markdown",
      "metadata": {
        "id": "dmXyjzmkArMp",
        "colab_type": "text"
      },
      "source": [
        "## Write results"
      ]
    },
    {
      "cell_type": "code",
      "metadata": {
        "id": "sxAE4aJZQcyY",
        "colab_type": "code",
        "colab": {
          "base_uri": "https://localhost:8080/",
          "height": 51
        },
        "outputId": "22f20d31-0bbd-49a3-ed64-7976ca7a7e0e"
      },
      "source": [
        "def write_predictions(predictions, test_data_frame, out_loc):\n",
        "    test_data_frame['pred'] = predictions\n",
        "    output = test_data_frame[['id','pred']]\n",
        "    output.to_csv(out_loc, index=False)\n",
        "        \n",
        "    print('Output file created:\\n\\t- '+os.path.abspath(out_loc))\n",
        "\n",
        "\n",
        "# write the predictions for the dev data into 'task-2-output.csv'\n",
        "out_loc = 'gdrive/My Drive/subtask-2/task-2-output.csv'\n",
        "\n",
        "test_class_preds = torch.argmax(F.softmax(torch.FloatTensor(test_logits_all), dim = 1), 1)\n",
        "write_predictions(test_class_preds, test, out_loc)"
      ],
      "execution_count": null,
      "outputs": [
        {
          "output_type": "stream",
          "text": [
            "Output file created:\n",
            "\t- /content/gdrive/My Drive/subtask-2/task-2-output.csv\n"
          ],
          "name": "stdout"
        }
      ]
    },
    {
      "cell_type": "markdown",
      "metadata": {
        "id": "WvRyvLeCFaPD",
        "colab_type": "text"
      },
      "source": [
        "## Check final results"
      ]
    },
    {
      "cell_type": "code",
      "metadata": {
        "id": "IzKVlMTJ88tg",
        "colab_type": "code",
        "colab": {
          "base_uri": "https://localhost:8080/",
          "height": 34
        },
        "outputId": "be217463-8978-4b56-d5f0-bef9762c0444"
      },
      "source": [
        "def score(truth_loc, prediction_loc):\n",
        "    truth = pd.read_csv(truth_loc, usecols=['id','label'])\n",
        "    pred = pd.read_csv(prediction_loc, usecols=['id','pred'])\n",
        "         \n",
        "    assert(sorted(truth.id) == sorted(pred.id)),\"ID mismatch between ground truth and prediction!\"\n",
        "    \n",
        "    data = pd.merge(truth,pred)\n",
        "    data = data[data.label != 0]\n",
        "    accuracy = (np.sum(data.label == data.pred)*1.0/len(data))*100\n",
        "    \n",
        "    print(\"Accuracy = %.6f\" % accuracy)\n",
        "\n",
        "    return accuracy   \n",
        "\n",
        "# print Accuracy\n",
        "truth_loc = 'gdrive/My Drive/subtask-2/test.csv'\n",
        "prediction_loc = 'gdrive/My Drive/subtask-2/task-2-output.csv'\n",
        "test_accuracy = score(truth_loc, prediction_loc)"
      ],
      "execution_count": null,
      "outputs": [
        {
          "output_type": "stream",
          "text": [
            "Accuracy = 50.951294\n"
          ],
          "name": "stdout"
        }
      ]
    },
    {
      "cell_type": "markdown",
      "metadata": {
        "id": "Tyk_hoF8safd",
        "colab_type": "text"
      },
      "source": [
        "# Logging Real Task Statistics"
      ]
    },
    {
      "cell_type": "code",
      "metadata": {
        "id": "DwpzJ5MG886_",
        "colab_type": "code",
        "colab": {}
      },
      "source": [
        "B1 = \"bert-base-uncased\"\n",
        "A2 = \"albert-base-v2\"\n",
        "E = \"electra\"\n",
        "\n",
        "real_task_stats, log_num_r = add_real_task_stats(real_task_stats, \n",
        "                                             log_num_r,\n",
        "                                             A2,\n",
        "                                             BATCH_SIZE, \n",
        "                                             N_EPOCHS_r,\n",
        "                                             \"{:.0e}\".format(LRATE_r),\n",
        "                                             \"{:.0e}\".format(FRATE_r), \n",
        "                                             \"{:.0e}\".format(EPS_r), \n",
        "                                             WU_r,\n",
        "                                             WDECAY_r, \n",
        "                                             train_loss_r, \n",
        "                                             train_accuracy_r*100, \n",
        "                                             val_loss_r, \n",
        "                                             val_accuracy_r*100,\n",
        "                                             test_accuracy\n",
        "                                             )"
      ],
      "execution_count": null,
      "outputs": []
    },
    {
      "cell_type": "code",
      "metadata": {
        "id": "PMDDYWnLsZiO",
        "colab_type": "code",
        "colab": {
          "base_uri": "https://localhost:8080/",
          "height": 193
        },
        "outputId": "48642b07-9387-463e-f32f-d92518569216"
      },
      "source": [
        "# Display floats with five decimal places.\n",
        "pd.set_option('precision', 5)\n",
        "\n",
        "# Create a DataFrame from our training statistics.\n",
        "df_stats = pd.DataFrame(data=real_task_stats)\n",
        "\n",
        "# Use the 'log' as the row index.\n",
        "df_stats = df_stats.set_index('log')\n",
        "\n",
        "# Display the table.\n",
        "df_stats"
      ],
      "execution_count": null,
      "outputs": [
        {
          "output_type": "execute_result",
          "data": {
            "text/html": [
              "<div>\n",
              "<style scoped>\n",
              "    .dataframe tbody tr th:only-of-type {\n",
              "        vertical-align: middle;\n",
              "    }\n",
              "\n",
              "    .dataframe tbody tr th {\n",
              "        vertical-align: top;\n",
              "    }\n",
              "\n",
              "    .dataframe thead th {\n",
              "        text-align: right;\n",
              "    }\n",
              "</style>\n",
              "<table border=\"1\" class=\"dataframe\">\n",
              "  <thead>\n",
              "    <tr style=\"text-align: right;\">\n",
              "      <th></th>\n",
              "      <th>Model Name</th>\n",
              "      <th>Batch Size</th>\n",
              "      <th>N_Epochs</th>\n",
              "      <th>lr</th>\n",
              "      <th>fr</th>\n",
              "      <th>eps</th>\n",
              "      <th>wu</th>\n",
              "      <th>wd</th>\n",
              "      <th>Training Loss</th>\n",
              "      <th>Training Accur.</th>\n",
              "      <th>Valid. Loss</th>\n",
              "      <th>Valid. Accur.</th>\n",
              "      <th>Testing Accur.</th>\n",
              "    </tr>\n",
              "    <tr>\n",
              "      <th>log</th>\n",
              "      <th></th>\n",
              "      <th></th>\n",
              "      <th></th>\n",
              "      <th></th>\n",
              "      <th></th>\n",
              "      <th></th>\n",
              "      <th></th>\n",
              "      <th></th>\n",
              "      <th></th>\n",
              "      <th></th>\n",
              "      <th></th>\n",
              "      <th></th>\n",
              "      <th></th>\n",
              "    </tr>\n",
              "  </thead>\n",
              "  <tbody>\n",
              "    <tr>\n",
              "      <th>1</th>\n",
              "      <td>albert-base-v2</td>\n",
              "      <td>16</td>\n",
              "      <td>3</td>\n",
              "      <td>5e-03</td>\n",
              "      <td>2e-05</td>\n",
              "      <td>1e-08</td>\n",
              "      <td>0.1</td>\n",
              "      <td>0.01</td>\n",
              "      <td>0.95910</td>\n",
              "      <td>44.78066</td>\n",
              "      <td>0.96082</td>\n",
              "      <td>43.07432</td>\n",
              "      <td>50.95129</td>\n",
              "    </tr>\n",
              "    <tr>\n",
              "      <th>2</th>\n",
              "      <td>albert-base-v2</td>\n",
              "      <td>16</td>\n",
              "      <td>3</td>\n",
              "      <td>5e-05</td>\n",
              "      <td>5e-05</td>\n",
              "      <td>1e-08</td>\n",
              "      <td>0.1</td>\n",
              "      <td>0.01</td>\n",
              "      <td>0.96709</td>\n",
              "      <td>44.35477</td>\n",
              "      <td>0.96287</td>\n",
              "      <td>43.03209</td>\n",
              "      <td>50.95129</td>\n",
              "    </tr>\n",
              "  </tbody>\n",
              "</table>\n",
              "</div>"
            ],
            "text/plain": [
              "         Model Name  Batch Size  ...  Valid. Accur. Testing Accur.\n",
              "log                              ...                              \n",
              "1    albert-base-v2          16  ...       43.07432       50.95129\n",
              "2    albert-base-v2          16  ...       43.03209       50.95129\n",
              "\n",
              "[2 rows x 13 columns]"
            ]
          },
          "metadata": {
            "tags": []
          },
          "execution_count": 70
        }
      ]
    },
    {
      "cell_type": "markdown",
      "metadata": {
        "id": "qFQZM8plDQyK",
        "colab_type": "text"
      },
      "source": [
        "## Write statistics"
      ]
    },
    {
      "cell_type": "code",
      "metadata": {
        "id": "Fg7-KYSf58QC",
        "colab_type": "code",
        "colab": {}
      },
      "source": [
        "log_loc = 'gdrive/My Drive/subtask-2/log2.csv'\n",
        "df_stats.to_csv(log_loc, index=False)"
      ],
      "execution_count": null,
      "outputs": []
    },
    {
      "cell_type": "code",
      "metadata": {
        "id": "L1ZBR3Gx7Egy",
        "colab_type": "code",
        "colab": {}
      },
      "source": [
        ""
      ],
      "execution_count": null,
      "outputs": []
    },
    {
      "cell_type": "code",
      "metadata": {
        "id": "ljGh7wNTs03L",
        "colab_type": "code",
        "colab": {}
      },
      "source": [
        "# remove the last row:\n",
        "#training_stats.pop(-1)\n",
        "#log_num -= 1"
      ],
      "execution_count": null,
      "outputs": []
    }
  ]
}